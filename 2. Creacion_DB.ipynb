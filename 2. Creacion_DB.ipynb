{
 "cells": [
  {
   "cell_type": "markdown",
   "metadata": {},
   "source": [
    "### Importar las librerías"
   ]
  },
  {
   "cell_type": "code",
   "execution_count": 10,
   "metadata": {},
   "outputs": [],
   "source": [
    "import pyodbc"
   ]
  },
  {
   "cell_type": "markdown",
   "metadata": {},
   "source": [
    "### Crear la Base de Datos"
   ]
  },
  {
   "cell_type": "code",
   "execution_count": 11,
   "metadata": {},
   "outputs": [
    {
     "name": "stdout",
     "output_type": "stream",
     "text": [
      "Base de datos creada exitosamente\n"
     ]
    }
   ],
   "source": [
    "# Colocamos el nombre de nuestro server y dejamos la database master para desde allí crear nuestra base de datos\n",
    "server = 'DESKTOP-B42O7PT\\\\SQLEXPRESS'\n",
    "database = 'master'\n",
    "\n",
    "# Creamos la conexion y ejecutamos la sentencia que crea nuestra base de datos en la que trabajaremos \n",
    "conn_str = f'DRIVER={{SQL Server}};SERVER={server};DATABASE={database};Trusted_Connection=yes;'\n",
    "\n",
    "try:\n",
    "    conn = pyodbc.connect(conn_str)\n",
    "    cursor = conn.cursor()\n",
    "    \n",
    "    # Crear una nueva base de datos\n",
    "    cursor.execute('CREATE DATABASE NBA_DB')\n",
    "    print(\"Base de datos creada exitosamente\")\n",
    "except Exception as e:\n",
    "    print(f\"Error al conectar a SQL Server: {e}\")\n",
    "finally:\n",
    "    if 'conn' in locals() and conn:\n",
    "        conn.close()"
   ]
  },
  {
   "cell_type": "markdown",
   "metadata": {},
   "source": [
    "### Creamos las tablas en la Base de Datos y las relaciones"
   ]
  },
  {
   "cell_type": "code",
   "execution_count": 12,
   "metadata": {},
   "outputs": [
    {
     "data": {
      "text/plain": [
       "<pyodbc.Cursor at 0x1ddb15dcf30>"
      ]
     },
     "execution_count": 12,
     "metadata": {},
     "output_type": "execute_result"
    }
   ],
   "source": [
    "# Base de datos en la que crearemos las tablas \n",
    "database = 'NBA_DB'\n",
    "\n",
    "# String conexion\n",
    "conn_str = (\n",
    "    'DRIVER={SQL Server};'\n",
    "    'SERVER=' + server + ';'  \n",
    "    'DATABASE=' + database + ';' \n",
    "    'Trusted_Connection=yes;'\n",
    ")\n",
    "\n",
    "# Create a connection\n",
    "conn = pyodbc.connect(conn_str, autocommit=True)\n",
    "\n",
    "# Crear un cursor\n",
    "cursor = conn.cursor()\n",
    "\n",
    "# Crear tabla Teams\n",
    "cursor.execute('''\n",
    "    CREATE TABLE teams (\n",
    "    team_id INT PRIMARY KEY,\n",
    "    full_name NVARCHAR(100),\n",
    "    abbreviation NVARCHAR(100),\n",
    "    city NVARCHAR(100),\n",
    "    state NVARCHAR(100),\n",
    "    arena NVARCHAR(100),\n",
    "    arenacapacity INT,\n",
    "    owner NVARCHAR(100),\n",
    "    generalmanager NVARCHAR(100),\n",
    "    headcoach NVARCHAR(100),\n",
    "    year_founded INT,\n",
    "    year_active_till INT,\n",
    "    )\n",
    "''')\n",
    "\n",
    "# Crear tabla Games\n",
    "cursor.execute('''\n",
    "    CREATE TABLE games (\n",
    "    game_id INT PRIMARY KEY,\n",
    "    season_id INT,\n",
    "    team_id_home INT,\n",
    "    team_id_away INT,\n",
    "    game_date NVARCHAR(100),\n",
    "    wl_home NVARCHAR(100),\n",
    "    wl_away NVARCHAR(100),\n",
    "    pts_home INT,\n",
    "    pts_away INT,\n",
    "    attendance INT,\n",
    "    game_time NVARCHAR(100),\n",
    "    season INT,\n",
    "    team_city_name_home NVARCHAR(100),\n",
    "    team_nickname_home NVARCHAR(100),\n",
    "    team_city_name_away NVARCHAR(100),\n",
    "    team_nickname_away NVARCHAR(100),\n",
    "    FOREIGN KEY (team_id_home) REFERENCES teams(team_id),\n",
    "    FOREIGN KEY (team_id_away) REFERENCES teams(team_id)\n",
    "    )\n",
    "''')\n",
    "\n",
    "# Crear tabla Drafts\n",
    "cursor.execute('''\n",
    "    CREATE TABLE drafts (\n",
    "    player_id INT PRIMARY KEY,\n",
    "    weight FLOAT,\n",
    "    wingspan FLOAT,\n",
    "    standing_reach FLOAT,\n",
    "    body_fat_pct FLOAT,\n",
    "    standing_vertical_leap FLOAT,\n",
    "    max_vertical_leap FLOAT,\n",
    "    lane_agility_time FLOAT,\n",
    "    modified_lane_agility_time FLOAT,\n",
    "    three_quarter_sprint FLOAT,\n",
    "    bench_press INT,\n",
    "    player_name NVARCHAR(100),\n",
    "    season INT,\n",
    "    round_number INT,\n",
    "    round_pick INT,\n",
    "    overall_pick INT,\n",
    "    team_id INT,\n",
    "    organization NVARCHAR(100),\n",
    "    organization_type NVARCHAR(100),\n",
    "    )\n",
    "''')\n",
    "\n",
    "# Crear tabla Players\n",
    "cursor.execute('''\n",
    "    CREATE TABLE players (\n",
    "    player_id INT PRIMARY KEY,\n",
    "    height NVARCHAR(100),\n",
    "    weight INT,\n",
    "    season_exp INT,\n",
    "    jersey NVARCHAR(100),\n",
    "    position NVARCHAR(100),\n",
    "    team_id INT,\n",
    "    team_name NVARCHAR(100),\n",
    "    team_city NVARCHAR(100),\n",
    "    full_name NVARCHAR(100),\n",
    "    is_active INT,\n",
    "    )\n",
    "''')\n",
    "\n",
    "# Crear tabla Other Stats\n",
    "cursor.execute('''\n",
    "    CREATE TABLE other_stats (\n",
    "    game_id INT PRIMARY KEY,\n",
    "    team_id_home INT,\n",
    "    team_city_home NVARCHAR(100),\n",
    "    pts_paint_home INT,\n",
    "    times_tied INT,\n",
    "    total_turnovers_home INT,\n",
    "    team_id_away INT,\n",
    "    team_city_away NVARCHAR(100),\n",
    "    pts_paint_away INT,\n",
    "    total_turnovers_away INT,\n",
    "    )\n",
    "''')\n",
    "\n",
    "# Crear tabla NBA Salaries\n",
    "cursor.execute('''\n",
    "    CREATE TABLE nba_salaries (\n",
    "    full_name NVARCHAR(100),\n",
    "    Salary INT,\n",
    "    Position NVARCHAR(100),\n",
    "    Age INT,\n",
    "    Team NVARCHAR(100),\n",
    "    PTS FLOAT,\n",
    "    player_id INT PRIMARY KEY,\n",
    "    is_active INT,\n",
    "    )\n",
    "''')"
   ]
  },
  {
   "cell_type": "markdown",
   "metadata": {},
   "source": [
    "### Aquí se deben cargar los datos a la DB antes de crear las relaciones"
   ]
  },
  {
   "cell_type": "code",
   "execution_count": 13,
   "metadata": {},
   "outputs": [],
   "source": [
    "#----------------------- SE CREAN LAS RELACIONES -----------------------#\n",
    "\n",
    "cursor.execute('''\n",
    "ALTER TABLE drafts\n",
    "ADD CONSTRAINT FK_drafts_players\n",
    "FOREIGN KEY(player_id) REFERENCES players(player_id);\n",
    "''')\n",
    "\n",
    "cursor.execute('''\n",
    "ALTER TABLE players\n",
    "ADD CONSTRAINT FK_players_teams\n",
    "FOREIGN KEY(team_id) REFERENCES teams(team_id);\n",
    "''')\n",
    "\n",
    "cursor.execute('''\n",
    "ALTER TABLE other_stats\n",
    "ADD CONSTRAINT FK_other_stats_games\n",
    "FOREIGN KEY(game_id) REFERENCES games(game_id);\n",
    "''')\n",
    "\n",
    "cursor.execute('''\n",
    "ALTER TABLE nba_salaries\n",
    "ADD CONSTRAINT FK_nba_salaries_players\n",
    "FOREIGN KEY(player_id) REFERENCES players(player_id);\n",
    "''')\n",
    "\n",
    "# Confirmar los cambios\n",
    "conn.commit()\n",
    "\n",
    "# Cerrar la conexión\n",
    "cursor.close()\n",
    "conn.close()"
   ]
  }
 ],
 "metadata": {
  "kernelspec": {
   "display_name": "Python 3",
   "language": "python",
   "name": "python3"
  },
  "language_info": {
   "codemirror_mode": {
    "name": "ipython",
    "version": 3
   },
   "file_extension": ".py",
   "mimetype": "text/x-python",
   "name": "python",
   "nbconvert_exporter": "python",
   "pygments_lexer": "ipython3",
   "version": "3.13.1"
  }
 },
 "nbformat": 4,
 "nbformat_minor": 2
}
