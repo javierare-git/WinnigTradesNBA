{
 "cells": [
  {
   "cell_type": "code",
   "execution_count": 5,
   "metadata": {},
   "outputs": [],
   "source": [
    "import pyodbc\n",
    "import pandas as pd"
   ]
  },
  {
   "cell_type": "code",
   "execution_count": 6,
   "metadata": {},
   "outputs": [
    {
     "name": "stdout",
     "output_type": "stream",
     "text": [
      "✅ Datos insertados en teams\n",
      "✅ Datos insertados en drafts\n",
      "✅ Datos insertados en players\n",
      "✅ Datos insertados en games\n",
      "✅ Datos insertados en other_stats\n",
      "✅ Datos insertados en nba_salaries\n",
      "🚀 Carga de datos completada en NBA_DB.\n"
     ]
    }
   ],
   "source": [
    "# 📌 Conexión a SQL Server\n",
    "server = \"DESKTOP-B42O7PT\\\\SQLEXPRESS\"\n",
    "database = \"NBA_DB\"\n",
    "conn_str = f'DRIVER={{SQL Server}};SERVER={server};DATABASE={database};Trusted_Connection=yes;'\n",
    "sql_server_conn = pyodbc.connect(conn_str)\n",
    "sql_cursor = sql_server_conn.cursor()\n",
    "\n",
    "# 📌 Diccionario de DataFrames y nombres de tablas\n",
    "dataframes = {\n",
    "    \"teams\": pd.read_csv('DF/df_teams.csv'),\n",
    "    \"drafts\": pd.read_csv('DF/df_drafts.csv'),\n",
    "    \"players\": pd.read_csv('DF/df_players.csv'),\n",
    "    \"games\": pd.read_csv('DF/df_games.csv'),\n",
    "    \"other_stats\": pd.read_csv('DF/df_other_stats.csv'),\n",
    "    \"nba_salaries\": pd.read_csv('DF/df_nba_salaries.csv')\n",
    "}\n",
    "\n",
    "# 📌 Insertar datos en SQL Server\n",
    "def insert_data(table_name, df):\n",
    "    column_names = \", \".join(df.columns)\n",
    "    placeholders = \", \".join([\"?\" for _ in df.columns])\n",
    "    insert_query = f\"INSERT INTO {table_name} ({column_names}) VALUES ({placeholders})\"\n",
    "\n",
    "    for row in df.itertuples(index=False, name=None):\n",
    "        try:\n",
    "            sql_cursor.execute(insert_query, row)\n",
    "        except Exception as e:\n",
    "            print(f\"⚠️ Error insertando datos en {table_name}: {e}\")\n",
    "\n",
    "    sql_server_conn.commit()\n",
    "    print(f\"✅ Datos insertados en {table_name}\")\n",
    "\n",
    "# 📌 Ejecutar inserciones\n",
    "for table, df in dataframes.items():\n",
    "    insert_data(table, df)\n",
    "\n",
    "# 📌 Cerrar conexión\n",
    "sql_server_conn.close()\n",
    "print(\"🚀 Carga de datos completada en NBA_DB.\")\n"
   ]
  }
 ],
 "metadata": {
  "kernelspec": {
   "display_name": "Python 3",
   "language": "python",
   "name": "python3"
  },
  "language_info": {
   "codemirror_mode": {
    "name": "ipython",
    "version": 3
   },
   "file_extension": ".py",
   "mimetype": "text/x-python",
   "name": "python",
   "nbconvert_exporter": "python",
   "pygments_lexer": "ipython3",
   "version": "3.13.1"
  }
 },
 "nbformat": 4,
 "nbformat_minor": 2
}
